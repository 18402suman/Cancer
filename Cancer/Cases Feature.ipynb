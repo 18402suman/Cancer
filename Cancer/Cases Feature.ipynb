{
 "cells": [
  {
   "cell_type": "code",
   "execution_count": 1,
   "metadata": {},
   "outputs": [
    {
     "name": "stdout",
     "output_type": "stream",
     "text": [
      "✅ Dataset Loaded Successfully!\n",
      "✅ Transformed dataset saved as: Transformed_Cancer_Incidence.csv\n",
      "                        region  Year  Incidence  Rolling_Avg_Incidence   \n",
      "36   Andaman & Nicobar Islands  2014      310.0             310.000000  \\\n",
      "75   Andaman & Nicobar Islands  2015      319.0             314.500000   \n",
      "114  Andaman & Nicobar Islands  2016      331.0             320.000000   \n",
      "153  Andaman & Nicobar Islands  2017      340.0             330.000000   \n",
      "192  Andaman & Nicobar Islands  2018      351.0             340.666667   \n",
      "\n",
      "     Lag_Incidence  Growth_Rate  Cumulative_Incidence  \n",
      "36             NaN          NaN                 310.0  \n",
      "75           310.0     2.903226                 629.0  \n",
      "114          319.0     3.761755                 960.0  \n",
      "153          331.0     2.719033                1300.0  \n",
      "192          340.0     3.235294                1651.0  \n"
     ]
    }
   ],
   "source": [
    "import pandas as pd\n",
    "import os\n",
    "\n",
    "# ✅ Define the correct file path (CHANGE THIS IF NEEDED)\n",
    "file_path = \"Estimated Incidence of Cancer Cases in India.csv\"\n",
    "\n",
    "# ✅ Check if file exists\n",
    "if not os.path.exists(file_path):\n",
    "    raise FileNotFoundError(f\"❌ File not found: {file_path}. Please check the file path!\")\n",
    "\n",
    "# ✅ Load dataset with error handling\n",
    "try:\n",
    "    data = pd.read_csv(file_path)\n",
    "    print(\"✅ Dataset Loaded Successfully!\")\n",
    "except Exception as e:\n",
    "    raise RuntimeError(f\"❌ Error loading file: {e}\")\n",
    "\n",
    "# ✅ Drop unnamed empty columns\n",
    "data = data.drop(columns=[col for col in data.columns if \"Unnamed\" in col], errors='ignore')\n",
    "\n",
    "# ✅ Convert wide format (year columns) to long format\n",
    "data_long = data.melt(id_vars=['State/UT'], var_name='Year', value_name='Incidence')\n",
    "\n",
    "# ✅ Rename columns to match required format\n",
    "data_long.rename(columns={'State/UT': 'region'}, inplace=True)\n",
    "\n",
    "# ✅ Convert Year and Incidence to proper data types\n",
    "data_long['Year'] = data_long['Year'].astype(int)  # Convert Year to integer\n",
    "data_long['Incidence'] = pd.to_numeric(data_long['Incidence'], errors='coerce')  # Convert Incidence to numbers\n",
    "\n",
    "# ✅ Drop rows where Incidence is NaN (if any)\n",
    "data_long.dropna(subset=['Incidence'], inplace=True)\n",
    "\n",
    "# ✅ Sort data by region and Year\n",
    "data_long.sort_values(by=['region', 'Year'], inplace=True)\n",
    "\n",
    "# ✅ Apply Feature Engineering\n",
    "# 🔹 Rolling Average (3-year moving average)\n",
    "data_long['Rolling_Avg_Incidence'] = data_long.groupby('region')['Incidence'].transform(lambda x: x.rolling(window=3, min_periods=1).mean())\n",
    "\n",
    "# 🔹 Lag Feature (Previous Year's Incidence)\n",
    "data_long['Lag_Incidence'] = data_long.groupby('region')['Incidence'].shift(1)\n",
    "\n",
    "# 🔹 Growth Rate Calculation (Year-over-Year Change)\n",
    "data_long['Growth_Rate'] = (data_long['Incidence'] - data_long['Lag_Incidence']) / data_long['Lag_Incidence'] * 100\n",
    "\n",
    "# 🔹 Cumulative Incidence per Region\n",
    "data_long['Cumulative_Incidence'] = data_long.groupby('region')['Incidence'].cumsum()\n",
    "\n",
    "# ✅ Save transformed dataset\n",
    "output_path = \"Transformed_Cancer_Incidence.csv\"\n",
    "data_long.to_csv(output_path, index=False)\n",
    "print(f\"✅ Transformed dataset saved as: {output_path}\")\n",
    "\n",
    "# ✅ Display sample output\n",
    "print(data_long.head())\n"
   ]
  },
  {
   "cell_type": "code",
   "execution_count": null,
   "metadata": {},
   "outputs": [],
   "source": []
  }
 ],
 "metadata": {
  "kernelspec": {
   "display_name": "Python 3",
   "language": "python",
   "name": "python3"
  },
  "language_info": {
   "codemirror_mode": {
    "name": "ipython",
    "version": 3
   },
   "file_extension": ".py",
   "mimetype": "text/x-python",
   "name": "python",
   "nbconvert_exporter": "python",
   "pygments_lexer": "ipython3",
   "version": "3.10.7"
  }
 },
 "nbformat": 4,
 "nbformat_minor": 2
}
