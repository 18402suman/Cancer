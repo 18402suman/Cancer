{
 "cells": [
  {
   "cell_type": "code",
   "execution_count": 13,
   "metadata": {},
   "outputs": [
    {
     "name": "stdout",
     "output_type": "stream",
     "text": [
      "✅ File found!\n"
     ]
    }
   ],
   "source": [
    "import pandas as pd\n",
    "import numpy as np\n",
    "import os\n",
    "\n",
    "# Define the correct file path\n",
    "file_path = r\"C:\\Cancer\\\\Estimated Mortality of Cancer Cases in India.csv\"\n",
    "\n",
    "if os.path.exists(file_path):\n",
    "    print(\"✅ File found!\")\n",
    "else:\n",
    "    print(\"❌ File NOT found! Check the file path.\")"
   ]
  },
  {
   "cell_type": "code",
   "execution_count": 26,
   "metadata": {},
   "outputs": [
    {
     "name": "stdout",
     "output_type": "stream",
     "text": [
      "📂 Dataset Loaded Successfully!\n"
     ]
    }
   ],
   "source": [
    "try:\n",
    "    data = pd.read_csv(\"C:\\Cancer\\Estimated Mortality of Cancer Cases in India.csv\")\n",
    "    print(\"📂 Dataset Loaded Successfully!\")\n",
    "except Exception as e:\n",
    "    raise RuntimeError(f\"❌ Error loading file: {e}\")\n",
    "\n",
    "    \n",
    "   "
   ]
  },
  {
   "cell_type": "code",
   "execution_count": 24,
   "metadata": {},
   "outputs": [
    {
     "name": "stdout",
     "output_type": "stream",
     "text": [
      "📌 Dataset Columns: Index(['State/UT', '2014', '2015', '2016', '2017', '2018', '2019', '2020',\n",
      "       '2021', '2022', '2023', 'Unnamed: 11', 'Unnamed: 12'],\n",
      "      dtype='object')\n"
     ]
    }
   ],
   "source": [
    "# ✅ Columns Check Karo\n",
    "print(\"📌 Dataset Columns:\", data.columns)\n"
   ]
  },
  {
   "cell_type": "code",
   "execution_count": 25,
   "metadata": {},
   "outputs": [],
   "source": [
    "# ✅ Drop unnamed empty columns\n",
    "data = data.drop(columns=[col for col in data.columns if \"Unnamed\" in col], errors='ignore')\n"
   ]
  },
  {
   "cell_type": "code",
   "execution_count": 27,
   "metadata": {},
   "outputs": [],
   "source": [
    "# ✅ Convert wide format (year columns) to long format\n",
    "data_long = data.melt(id_vars=['State/UT'], var_name='Year', value_name='Deaths')\n"
   ]
  },
  {
   "cell_type": "code",
   "execution_count": 28,
   "metadata": {},
   "outputs": [],
   "source": [
    "# ✅ Rename columns to match required format\n",
    "data_long.rename(columns={'State/UT': 'region'}, inplace=True)\n"
   ]
  },
  {
   "cell_type": "code",
   "execution_count": 31,
   "metadata": {},
   "outputs": [],
   "source": [
    "# ✅ Ensure 'Year' contains only valid numbers\n",
    "data_long['Year'] = data_long['Year'].astype(str).str.extract('(\\d+)')  # Extract only numbers\n",
    "data_long.dropna(subset=['Year'], inplace=True)  # Drop rows where Year is NaN\n",
    "data_long['Year'] = data_long['Year'].astype(int)  # Convert Year to integer\n"
   ]
  },
  {
   "cell_type": "code",
   "execution_count": 32,
   "metadata": {},
   "outputs": [],
   "source": [
    "# ✅ Convert 'Deaths' to numeric\n",
    "data_long['Deaths'] = pd.to_numeric(data_long['Deaths'], errors='coerce')\n"
   ]
  },
  {
   "cell_type": "code",
   "execution_count": null,
   "metadata": {},
   "outputs": [],
   "source": [
    "data_long.dropna(subset=['Deaths'], inplace=True)\n"
   ]
  },
  {
   "cell_type": "code",
   "execution_count": null,
   "metadata": {},
   "outputs": [],
   "source": [
    "# ✅ Sort data by region and Year\n",
    "data_long.sort_values(by=['region', 'Year'], inplace=True)\n"
   ]
  },
  {
   "cell_type": "code",
   "execution_count": 35,
   "metadata": {},
   "outputs": [],
   "source": [
    "# ✅ Apply Feature Engineering\n",
    "# 🔹 Rolling Average (3-year moving average)\n",
    "data_long['Rolling_Avg_Deaths'] = data_long.groupby('region')['Deaths'].transform(lambda x: x.rolling(window=3, min_periods=1).mean())\n"
   ]
  },
  {
   "cell_type": "code",
   "execution_count": 36,
   "metadata": {},
   "outputs": [
    {
     "name": "stdout",
     "output_type": "stream",
     "text": [
      "✅ Transformed dataset saved as: Transformed_Cancer_Mortality.csv\n",
      "                        region  Year  Deaths  Rolling_Avg_Deaths  Lag_Deaths   \n",
      "36   Andaman & Nicobar Islands  2014   170.0          170.000000         NaN  \\\n",
      "75   Andaman & Nicobar Islands  2015   175.0          172.500000       170.0   \n",
      "114  Andaman & Nicobar Islands  2016   180.0          175.000000       175.0   \n",
      "153  Andaman & Nicobar Islands  2017   186.0          180.333333       180.0   \n",
      "192  Andaman & Nicobar Islands  2018   193.0          186.333333       186.0   \n",
      "\n",
      "     Growth_Rate  Cumulative_Deaths  \n",
      "36           NaN              170.0  \n",
      "75      2.941176              345.0  \n",
      "114     2.857143              525.0  \n",
      "153     3.333333              711.0  \n",
      "192     3.763441              904.0  \n"
     ]
    }
   ],
   "source": [
    "# 🔹 Lag Feature (Previous Year's Deaths)\n",
    "data_long['Lag_Deaths'] = data_long.groupby('region')['Deaths'].shift(1)\n",
    "\n",
    "# 🔹 Growth Rate Calculation (Year-over-Year Change)\n",
    "data_long['Growth_Rate'] = (data_long['Deaths'] - data_long['Lag_Deaths']) / data_long['Lag_Deaths'] * 100\n",
    "\n",
    "# 🔹 Cumulative Deaths per Region\n",
    "data_long['Cumulative_Deaths'] = data_long.groupby('region')['Deaths'].cumsum()\n",
    "\n",
    "# ✅ Save transformed dataset\n",
    "output_path = \"Transformed_Cancer_Mortality.csv\"\n",
    "data_long.to_csv(output_path, index=False)\n",
    "print(f\"✅ Transformed dataset saved as: {output_path}\")\n",
    "\n",
    "# ✅ Display sample output\n",
    "print(data_long.head())\n"
   ]
  },
  {
   "cell_type": "code",
   "execution_count": 37,
   "metadata": {},
   "outputs": [
    {
     "name": "stdout",
     "output_type": "stream",
     "text": [
      "✅ File found!\n",
      "📂 Dataset Loaded Successfully!\n",
      "📌 Dataset Columns: Index(['State/UT', '2014', '2015', '2016', '2017', '2018', '2019', '2020',\n",
      "       '2021', '2022', '2023', 'Unnamed: 11', 'Unnamed: 12'],\n",
      "      dtype='object')\n",
      "✅ Transformed dataset saved as: Transformed_Cancer_Mortality.csv\n",
      "                        region  Year  Deaths  Rolling_Avg_Deaths  Lag_Deaths   \n",
      "36   Andaman & Nicobar Islands  2014   170.0          170.000000         NaN  \\\n",
      "75   Andaman & Nicobar Islands  2015   175.0          172.500000       170.0   \n",
      "114  Andaman & Nicobar Islands  2016   180.0          175.000000       175.0   \n",
      "153  Andaman & Nicobar Islands  2017   186.0          180.333333       180.0   \n",
      "192  Andaman & Nicobar Islands  2018   193.0          186.333333       186.0   \n",
      "\n",
      "     Growth_Rate  Cumulative_Deaths  \n",
      "36           NaN              170.0  \n",
      "75      2.941176              345.0  \n",
      "114     2.857143              525.0  \n",
      "153     3.333333              711.0  \n",
      "192     3.763441              904.0  \n"
     ]
    }
   ],
   "source": [
    "import pandas as pd\n",
    "import numpy as np\n",
    "import os\n",
    "\n",
    "# ✅ Define the correct file path\n",
    "file_path = r\"C:\\Cancer\\Estimated Mortality of Cancer Cases in India.csv\"\n",
    "\n",
    "# ✅ Check if file exists\n",
    "if os.path.exists(file_path):\n",
    "    print(\"✅ File found!\")\n",
    "else:\n",
    "    raise FileNotFoundError(f\"❌ File NOT found! Check the file path: {file_path}\")\n",
    "\n",
    "# ✅ Load dataset with error handling\n",
    "try: \n",
    "    data = pd.read_csv(file_path)\n",
    "    print(\"📂 Dataset Loaded Successfully!\")\n",
    "except Exception as e:\n",
    "    raise RuntimeError(f\"❌ Error loading file: {e}\")\n",
    "\n",
    "# ✅ Columns Check\n",
    "print(\"📌 Dataset Columns:\", data.columns)\n",
    "\n",
    "# ✅ Drop unnamed empty columns\n",
    "data = data.drop(columns=[col for col in data.columns if \"Unnamed\" in col], errors='ignore')\n",
    "\n",
    "# ✅ Convert wide format (year columns) to long format\n",
    "data_long = data.melt(id_vars=['State/UT'], var_name='Year', value_name='Deaths')\n",
    "\n",
    "# ✅ Rename columns to match required format\n",
    "data_long.rename(columns={'State/UT': 'region'}, inplace=True)\n",
    "\n",
    "# ✅ Ensure 'Year' contains only valid numbers\n",
    "data_long['Year'] = data_long['Year'].astype(str).str.extract('(\\d+)')  # Extract only numbers\n",
    "data_long.dropna(subset=['Year'], inplace=True)  # Drop rows where Year is NaN\n",
    "data_long['Year'] = data_long['Year'].astype(int)  # Convert Year to integer\n",
    "\n",
    "# ✅ Convert 'Deaths' to numeric\n",
    "data_long['Deaths'] = pd.to_numeric(data_long['Deaths'], errors='coerce')\n",
    "\n",
    "# ✅ Drop NaN values in 'Deaths'\n",
    "data_long.dropna(subset=['Deaths'], inplace=True)\n",
    "\n",
    "# ✅ Sort data by region and Year\n",
    "data_long.sort_values(by=['region', 'Year'], inplace=True)\n",
    "\n",
    "# ✅ Apply Feature Engineering\n",
    "# 🔹 Rolling Average (3-year moving average)\n",
    "data_long['Rolling_Avg_Deaths'] = data_long.groupby('region')['Deaths'].transform(lambda x: x.rolling(window=3, min_periods=1).mean())\n",
    "\n",
    "# 🔹 Lag Feature (Previous Year's Deaths)\n",
    "data_long['Lag_Deaths'] = data_long.groupby('region')['Deaths'].shift(1)\n",
    "\n",
    "# 🔹 Growth Rate Calculation (Avoid division by zero)\n",
    "data_long['Growth_Rate'] = (data_long['Deaths'] - data_long['Lag_Deaths']) / data_long['Lag_Deaths'].replace(0, np.nan) * 100\n",
    "\n",
    "# 🔹 Cumulative Deaths per Region\n",
    "data_long['Cumulative_Deaths'] = data_long.groupby('region')['Deaths'].cumsum()\n",
    "\n",
    "# ✅ Save transformed dataset\n",
    "output_path = \"Transformed_Cancer_Mortality.csv\"\n",
    "data_long.to_csv(output_path, index=False)\n",
    "print(f\"✅ Transformed dataset saved as: {output_path}\")\n",
    "\n",
    "# ✅ Display sample output\n",
    "print(data_long.head())\n"
   ]
  },
  {
   "cell_type": "code",
   "execution_count": null,
   "metadata": {},
   "outputs": [],
   "source": []
  }
 ],
 "metadata": {
  "kernelspec": {
   "display_name": "Python 3",
   "language": "python",
   "name": "python3"
  },
  "language_info": {
   "codemirror_mode": {
    "name": "ipython",
    "version": 3
   },
   "file_extension": ".py",
   "mimetype": "text/x-python",
   "name": "python",
   "nbconvert_exporter": "python",
   "pygments_lexer": "ipython3",
   "version": "3.10.7"
  }
 },
 "nbformat": 4,
 "nbformat_minor": 4
}
