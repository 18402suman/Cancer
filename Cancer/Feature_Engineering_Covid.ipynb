{
 "cells": [
  {
   "cell_type": "code",
   "execution_count": 26,
   "id": "41aa305b",
   "metadata": {},
   "outputs": [],
   "source": [
    "\n",
    "import pandas as pd\n",
    "import numpy as np\n",
    "import os\n",
    "    "
   ]
  },
  {
   "cell_type": "code",
   "execution_count": 27,
   "id": "e2b8880a",
   "metadata": {},
   "outputs": [],
   "source": [
    "\n",
    "# Define the correct file path\n",
    "file_path = r\"C:\\Cancer\\Estimated Mortality of Cancer Cases in India.csv\"\n",
    "# Check if the file exists\n",
    "if not os.path.exists(file_path):\n",
    "    raise FileNotFoundError(f\"❌ File not found: {file_path}. Please check the file path!\")"
   ]
  },
  {
   "cell_type": "code",
   "execution_count": 28,
   "id": "fe896be8",
   "metadata": {},
   "outputs": [
    {
     "name": "stdout",
     "output_type": "stream",
     "text": [
      "📂 Dataset Loaded Successfully!\n",
      "📌 Dataset Columns: Index(['State/UT', '2014', '2015', '2016', '2017', '2018', '2019', '2020',\n",
      "       '2021', '2022', '2023', 'Unnamed: 11', 'Unnamed: 12'],\n",
      "      dtype='object')\n"
     ]
    }
   ],
   "source": [
    "\n",
    "# Load dataset with error handling\n",
    "try:\n",
    "    data = pd.read_csv(\"C:\\Cancer\\Estimated Mortality of Cancer Cases in India.csv\")\n",
    "    print(\"📂 Dataset Loaded Successfully!\")\n",
    "except Exception as e:\n",
    "    raise RuntimeError(f\"❌ Error loading file: {e}\")\n",
    "# ✅ Columns Check Karo\n",
    "print(\"📌 Dataset Columns:\", data.columns)\n",
    "    "
   ]
  },
  {
   "cell_type": "code",
   "execution_count": 41,
   "id": "925765da",
   "metadata": {},
   "outputs": [
    {
     "data": {
      "text/html": [
       "<div>\n",
       "<style scoped>\n",
       "    .dataframe tbody tr th:only-of-type {\n",
       "        vertical-align: middle;\n",
       "    }\n",
       "\n",
       "    .dataframe tbody tr th {\n",
       "        vertical-align: top;\n",
       "    }\n",
       "\n",
       "    .dataframe thead th {\n",
       "        text-align: right;\n",
       "    }\n",
       "</style>\n",
       "<table border=\"1\" class=\"dataframe\">\n",
       "  <thead>\n",
       "    <tr style=\"text-align: right;\">\n",
       "      <th></th>\n",
       "      <th>region</th>\n",
       "      <th>Year</th>\n",
       "      <th>Deaths</th>\n",
       "    </tr>\n",
       "  </thead>\n",
       "  <tbody>\n",
       "    <tr>\n",
       "      <th>0</th>\n",
       "      <td>Jammu &amp; Kashmir</td>\n",
       "      <td>2014</td>\n",
       "      <td>6130.0</td>\n",
       "    </tr>\n",
       "    <tr>\n",
       "      <th>2</th>\n",
       "      <td>Himachal Pradesh</td>\n",
       "      <td>2014</td>\n",
       "      <td>4239.0</td>\n",
       "    </tr>\n",
       "    <tr>\n",
       "      <th>3</th>\n",
       "      <td>Punjab</td>\n",
       "      <td>2014</td>\n",
       "      <td>19393.0</td>\n",
       "    </tr>\n",
       "    <tr>\n",
       "      <th>4</th>\n",
       "      <td>Chandigarh</td>\n",
       "      <td>2014</td>\n",
       "      <td>470.0</td>\n",
       "    </tr>\n",
       "    <tr>\n",
       "      <th>5</th>\n",
       "      <td>Uttarakhand</td>\n",
       "      <td>2014</td>\n",
       "      <td>5460.0</td>\n",
       "    </tr>\n",
       "  </tbody>\n",
       "</table>\n",
       "</div>"
      ],
      "text/plain": [
       "             region  Year   Deaths\n",
       "0   Jammu & Kashmir  2014   6130.0\n",
       "2  Himachal Pradesh  2014   4239.0\n",
       "3            Punjab  2014  19393.0\n",
       "4        Chandigarh  2014    470.0\n",
       "5       Uttarakhand  2014   5460.0"
      ]
     },
     "execution_count": 41,
     "metadata": {},
     "output_type": "execute_result"
    }
   ],
   "source": [
    "# Drop unnamed empty columns if they exist\n",
    "data = data.drop(columns=[col for col in data.columns if \"Unnamed\" in col], errors='ignore')\n",
    "\n",
    "# Convert wide format (year columns) to long format\n",
    "data_long = data.melt(id_vars=['State/UT'], var_name='Year', value_name='Deaths')\n",
    "\n",
    "# Rename columns to match required format\n",
    "data_long.rename(columns={'State/UT': 'region'}, inplace=True)\n",
    "\n",
    "# Convert Year and Deaths to proper data types\n",
    "data_long['Year'] = data_long['Year'].astype(str).str.strip()  # Ensure Year is string\n",
    "data_long['Deaths'] = pd.to_numeric(data_long['Deaths'], errors='coerce')  # Convert Deaths to numbers\n",
    "\n",
    "# Drop rows where Deaths is NaN (if any)\n",
    "data_long.dropna(subset=['Deaths'], inplace=True)\n",
    "\n",
    "# Display transformed data\n",
    "data_long.head()\n"
   ]
  },
  {
   "cell_type": "code",
   "execution_count": 47,
   "id": "be8a5a88",
   "metadata": {},
   "outputs": [],
   "source": [
    "# ✅ Ensure necessary columns exist\n",
    "required_columns = {'region', 'Year', 'Deaths'}\n",
    "missing_columns = required_columns - set(data_long.columns)\n",
    "if missing_columns:\n",
    "    raise ValueError(f\"❌ Missing required columns: {missing_columns}\")\n"
   ]
  },
  {
   "cell_type": "code",
   "execution_count": 48,
   "id": "ebf9e381",
   "metadata": {},
   "outputs": [],
   "source": [
    "# ✅ Feature Engineering\n",
    "# ✅ Sort data for time-based operations\n",
    "data_long = data_long.sort_values(by=['region', 'Year'])\n"
   ]
  },
  {
   "cell_type": "code",
   "execution_count": 50,
   "id": "c5a217eb",
   "metadata": {},
   "outputs": [],
   "source": [
    "# ✅ Rolling Average (7-year moving average)\n",
    "data_long['Rolling_Avg_Deaths'] = data_long.groupby('region')['Deaths'].transform(lambda x: x.rolling(window=3, min_periods=1).mean())\n"
   ]
  },
  {
   "cell_type": "code",
   "execution_count": 51,
   "id": "99100d16",
   "metadata": {},
   "outputs": [],
   "source": [
    "# ✅ Lag Features (Previous year's deaths)\n",
    "data_long['Lag_Deaths'] = data_long.groupby('region')['Deaths'].shift(1)\n",
    "\n"
   ]
  },
  {
   "cell_type": "code",
   "execution_count": 52,
   "id": "240dca3d",
   "metadata": {},
   "outputs": [
    {
     "name": "stdout",
     "output_type": "stream",
     "text": [
      "✅ Transformed dataset saved as: Transformed_Cancer_Mortality.csv\n",
      "                        region  Year  Deaths  Rolling_Avg_Deaths  Lag_Deaths   \n",
      "36   Andaman & Nicobar Islands  2014   170.0          170.000000         NaN  \\\n",
      "75   Andaman & Nicobar Islands  2015   175.0          172.500000       170.0   \n",
      "114  Andaman & Nicobar Islands  2016   180.0          175.000000       175.0   \n",
      "153  Andaman & Nicobar Islands  2017   186.0          180.333333       180.0   \n",
      "192  Andaman & Nicobar Islands  2018   193.0          186.333333       186.0   \n",
      "\n",
      "     Growth_Rate  Cumulative_Deaths  \n",
      "36           NaN              170.0  \n",
      "75      2.941176              345.0  \n",
      "114     2.857143              525.0  \n",
      "153     3.333333              711.0  \n",
      "192     3.763441              904.0  \n"
     ]
    }
   ],
   "source": [
    "# ✅ Growth Rate Calculation\n",
    "data_long['Growth_Rate'] = ((data_long['Deaths'] - data_long['Lag_Deaths']) / data_long['Lag_Deaths']) * 100\n",
    "\n",
    "# ✅ Cumulative Deaths per Region\n",
    "data_long['Cumulative_Deaths'] = data_long.groupby('region')['Deaths'].cumsum()\n",
    "\n",
    "# ✅ Save transformed dataset\n",
    "output_path = \"Transformed_Cancer_Mortality.csv\"\n",
    "data_long.to_csv(output_path, index=False)\n",
    "print(f\"✅ Transformed dataset saved as: {output_path}\")\n",
    "\n",
    "# ✅ Display sample output\n",
    "print(data_long.head())\n"
   ]
  },
  {
   "cell_type": "code",
   "execution_count": 37,
   "id": "57967da3",
   "metadata": {},
   "outputs": [
    {
     "name": "stdout",
     "output_type": "stream",
     "text": [
      "✅ Feature Engineering Complete! Processed file saved at: C:\\Cancer\\Estimated_Mortality_Featured.csv\n",
      "📊 Sample Processed Data:\n",
      "           State/UT     2014     2015     2016     2017     2018     2019   \n",
      "0   Jammu & Kashmir   6130.0   6306.0   6464.0   6645.0   6824.0   6844.0  \\\n",
      "1            Ladakh      NaN      NaN      NaN      NaN      NaN    159.0   \n",
      "2  Himachal Pradesh   4239.0   4347.0   4434.0   4534.0   4642.0   4744.0   \n",
      "3            Punjab  19393.0  19858.0  20332.0  20784.0  21278.0  21763.0   \n",
      "4        Chandigarh    470.0    487.0    501.0    517.0    532.0    548.0   \n",
      "\n",
      "      2020     2021     2022     2023  \n",
      "0   7027.0   7211.0   7396.0   7575.0  \n",
      "1    162.0    166.0    171.0    175.0  \n",
      "2   4856.0   4953.0   5058.0   5180.0  \n",
      "3  22276.0  22786.0  23301.0  23865.0  \n",
      "4    564.0    582.0    598.0    612.0  \n"
     ]
    }
   ],
   "source": [
    "\n",
    "# Save Processed Data\n",
    "output_path = r\"C:\\Cancer\\Estimated_Mortality_Featured.csv\"\n",
    "data.to_csv(output_path, index=False)\n",
    "\n",
    "print(f\"✅ Feature Engineering Complete! Processed file saved at: {output_path}\")\n",
    "print(\"📊 Sample Processed Data:\")\n",
    "print(data.head())\n",
    "    "
   ]
  },
  {
   "cell_type": "code",
   "execution_count": 39,
   "id": "98028c9d",
   "metadata": {},
   "outputs": [
    {
     "name": "stdout",
     "output_type": "stream",
     "text": [
      "✅ Transformed dataset saved as: Transformed_Cancer_Mortality.csv\n",
      "                        region  Year  Deaths  Rolling_Avg_Deaths  Lag_Deaths   \n",
      "36   Andaman & Nicobar Islands  2014   170.0          170.000000         NaN  \\\n",
      "75   Andaman & Nicobar Islands  2015   175.0          172.500000       170.0   \n",
      "114  Andaman & Nicobar Islands  2016   180.0          175.000000       175.0   \n",
      "153  Andaman & Nicobar Islands  2017   186.0          180.333333       180.0   \n",
      "192  Andaman & Nicobar Islands  2018   193.0          186.333333       186.0   \n",
      "\n",
      "     Growth_Rate  Cumulative_Deaths  \n",
      "36           NaN              170.0  \n",
      "75      2.941176              345.0  \n",
      "114     2.857143              525.0  \n",
      "153     3.333333              711.0  \n",
      "192     3.763441              904.0  \n"
     ]
    }
   ],
   "source": [
    "data = data.drop(columns=[col for col in data.columns if \"Unnamed\" in col], errors='ignore')\n",
    "\n",
    "# ✅ Convert wide format (year columns) to long format\n",
    "data_long = data.melt(id_vars=['State/UT'], var_name='Year', value_name='Deaths')\n",
    "\n",
    "# ✅ Rename columns to match required format\n",
    "data_long.rename(columns={'State/UT': 'region'}, inplace=True)\n",
    "\n",
    "# ✅ Convert Year and Deaths to proper data types\n",
    "data_long['Year'] = data_long['Year'].astype(str).str.strip()  # Ensure Year is string\n",
    "data_long['Deaths'] = pd.to_numeric(data_long['Deaths'], errors='coerce')  # Convert Deaths to numbers\n",
    "\n",
    "# ✅ Drop rows where Deaths is NaN (if any)\n",
    "data_long.dropna(subset=['Deaths'], inplace=True)\n",
    "\n",
    "# ✅ Feature Engineering\n",
    "# ✅ Sort data for time-based operations\n",
    "data_long = data_long.sort_values(by=['region', 'Year'])\n",
    "\n",
    "# ✅ Rolling Average (7-year moving average)\n",
    "data_long['Rolling_Avg_Deaths'] = data_long.groupby('region')['Deaths'].transform(lambda x: x.rolling(window=3, min_periods=1).mean())\n",
    "\n",
    "# ✅ Lag Features (Previous year's deaths)\n",
    "data_long['Lag_Deaths'] = data_long.groupby('region')['Deaths'].shift(1)\n",
    "\n",
    "# ✅ Growth Rate Calculation\n",
    "data_long['Growth_Rate'] = ((data_long['Deaths'] - data_long['Lag_Deaths']) / data_long['Lag_Deaths']) * 100\n",
    "\n",
    "# ✅ Cumulative Deaths per Region\n",
    "data_long['Cumulative_Deaths'] = data_long.groupby('region')['Deaths'].cumsum()\n",
    "\n",
    "# ✅ Save transformed dataset\n",
    "output_path = \"Transformed_Cancer_Mortality.csv\"\n",
    "data_long.to_csv(output_path, index=False)\n",
    "print(f\"✅ Transformed dataset saved as: {output_path}\")\n",
    "\n",
    "# ✅ Display sample output\n",
    "print(data_long.head())\n"
   ]
  },
  {
   "cell_type": "code",
   "execution_count": null,
   "id": "de0d48bb",
   "metadata": {},
   "outputs": [],
   "source": []
  }
 ],
 "metadata": {
  "kernelspec": {
   "display_name": "Python 3",
   "language": "python",
   "name": "python3"
  },
  "language_info": {
   "codemirror_mode": {
    "name": "ipython",
    "version": 3
   },
   "file_extension": ".py",
   "mimetype": "text/x-python",
   "name": "python",
   "nbconvert_exporter": "python",
   "pygments_lexer": "ipython3",
   "version": "3.10.7"
  }
 },
 "nbformat": 4,
 "nbformat_minor": 5
}
