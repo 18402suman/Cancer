{
 "cells": [
  {
   "cell_type": "code",
   "execution_count": 1,
   "metadata": {},
   "outputs": [],
   "source": [
    "import pandas as pd\n",
    "import dash\n",
    "from dash import dcc, html\n",
    "import plotly.graph_objects as go\n",
    "from prophet import Prophet"
   ]
  },
  {
   "cell_type": "code",
   "execution_count": 2,
   "metadata": {},
   "outputs": [],
   "source": [
    "# Load the dataset\n",
    "file_path = \"Transformed_Cancer_Incidence.csv\"\n",
    "df = pd.read_csv(file_path)"
   ]
  },
  {
   "cell_type": "code",
   "execution_count": 3,
   "metadata": {},
   "outputs": [],
   "source": [
    "# Prepare Data for Prophet Model\n",
    "def prepare_prophet_data(region_df):\n",
    "    region_df = region_df[[\"Year\", \"Incidence\"]].dropna()\n",
    "    region_df.columns = [\"ds\", \"y\"]\n",
    "    return region_df"
   ]
  },
  {
   "cell_type": "code",
   "execution_count": 4,
   "metadata": {},
   "outputs": [
    {
     "name": "stderr",
     "output_type": "stream",
     "text": [
      "15:31:04 - cmdstanpy - INFO - Chain [1] start processing\n",
      "15:31:12 - cmdstanpy - INFO - Chain [1] done processing\n",
      "15:31:12 - cmdstanpy - INFO - Chain [1] start processing\n",
      "15:31:20 - cmdstanpy - INFO - Chain [1] done processing\n",
      "15:31:21 - cmdstanpy - INFO - Chain [1] start processing\n",
      "15:31:21 - cmdstanpy - INFO - Chain [1] done processing\n",
      "15:31:21 - cmdstanpy - INFO - Chain [1] start processing\n",
      "15:31:30 - cmdstanpy - INFO - Chain [1] done processing\n",
      "15:31:30 - cmdstanpy - INFO - Chain [1] start processing\n",
      "15:31:38 - cmdstanpy - INFO - Chain [1] done processing\n",
      "15:31:38 - cmdstanpy - INFO - Chain [1] start processing\n",
      "15:31:47 - cmdstanpy - INFO - Chain [1] done processing\n",
      "15:31:48 - cmdstanpy - INFO - Chain [1] start processing\n",
      "15:31:56 - cmdstanpy - INFO - Chain [1] done processing\n",
      "15:31:56 - cmdstanpy - INFO - Chain [1] start processing\n",
      "15:31:56 - cmdstanpy - INFO - Chain [1] done processing\n",
      "15:31:57 - cmdstanpy - INFO - Chain [1] start processing\n",
      "15:31:57 - cmdstanpy - INFO - Chain [1] done processing\n",
      "15:31:57 - cmdstanpy - INFO - Chain [1] start processing\n",
      "15:32:05 - cmdstanpy - INFO - Chain [1] done processing\n",
      "15:32:06 - cmdstanpy - INFO - Chain [1] start processing\n",
      "15:32:14 - cmdstanpy - INFO - Chain [1] done processing\n",
      "15:32:14 - cmdstanpy - INFO - Chain [1] start processing\n",
      "15:32:22 - cmdstanpy - INFO - Chain [1] done processing\n",
      "15:32:22 - cmdstanpy - INFO - Chain [1] start processing\n",
      "15:32:30 - cmdstanpy - INFO - Chain [1] done processing\n",
      "15:32:31 - cmdstanpy - INFO - Chain [1] start processing\n",
      "15:32:39 - cmdstanpy - INFO - Chain [1] done processing\n",
      "15:32:39 - cmdstanpy - INFO - Chain [1] start processing\n",
      "15:32:47 - cmdstanpy - INFO - Chain [1] done processing\n",
      "15:32:48 - cmdstanpy - INFO - Chain [1] start processing\n",
      "15:32:56 - cmdstanpy - INFO - Chain [1] done processing\n",
      "15:32:56 - cmdstanpy - INFO - Chain [1] start processing\n",
      "15:33:04 - cmdstanpy - INFO - Chain [1] done processing\n",
      "15:33:04 - cmdstanpy - INFO - Chain [1] start processing\n",
      "15:33:13 - cmdstanpy - INFO - Chain [1] done processing\n",
      "15:33:13 - cmdstanpy - INFO - Chain [1] start processing\n",
      "15:33:19 - cmdstanpy - INFO - Chain [1] done processing\n",
      "15:33:20 - cmdstanpy - INFO - Chain [1] start processing\n",
      "15:33:20 - cmdstanpy - INFO - Chain [1] done processing\n",
      "15:33:20 - cmdstanpy - INFO - Chain [1] start processing\n",
      "15:33:28 - cmdstanpy - INFO - Chain [1] done processing\n",
      "15:33:28 - cmdstanpy - INFO - Chain [1] start processing\n",
      "15:33:36 - cmdstanpy - INFO - Chain [1] done processing\n",
      "15:33:36 - cmdstanpy - INFO - Chain [1] start processing\n",
      "15:33:45 - cmdstanpy - INFO - Chain [1] done processing\n",
      "15:33:45 - cmdstanpy - INFO - Chain [1] start processing\n",
      "15:33:53 - cmdstanpy - INFO - Chain [1] done processing\n",
      "15:33:53 - cmdstanpy - INFO - Chain [1] start processing\n",
      "15:34:02 - cmdstanpy - INFO - Chain [1] done processing\n",
      "15:34:02 - cmdstanpy - INFO - Chain [1] start processing\n",
      "15:34:10 - cmdstanpy - INFO - Chain [1] done processing\n",
      "15:34:10 - cmdstanpy - INFO - Chain [1] start processing\n",
      "15:34:19 - cmdstanpy - INFO - Chain [1] done processing\n",
      "15:34:19 - cmdstanpy - INFO - Chain [1] start processing\n",
      "15:34:27 - cmdstanpy - INFO - Chain [1] done processing\n",
      "15:34:27 - cmdstanpy - INFO - Chain [1] start processing\n",
      "15:34:35 - cmdstanpy - INFO - Chain [1] done processing\n",
      "15:34:35 - cmdstanpy - INFO - Chain [1] start processing\n",
      "15:34:43 - cmdstanpy - INFO - Chain [1] done processing\n",
      "15:34:43 - cmdstanpy - INFO - Chain [1] start processing\n",
      "15:34:50 - cmdstanpy - INFO - Chain [1] done processing\n",
      "15:34:50 - cmdstanpy - INFO - Chain [1] start processing\n",
      "15:34:59 - cmdstanpy - INFO - Chain [1] done processing\n",
      "15:34:59 - cmdstanpy - INFO - Chain [1] start processing\n",
      "15:35:07 - cmdstanpy - INFO - Chain [1] done processing\n",
      "15:35:07 - cmdstanpy - INFO - Chain [1] start processing\n",
      "15:35:16 - cmdstanpy - INFO - Chain [1] done processing\n",
      "15:35:16 - cmdstanpy - INFO - Chain [1] start processing\n",
      "15:35:24 - cmdstanpy - INFO - Chain [1] done processing\n",
      "15:35:25 - cmdstanpy - INFO - Chain [1] start processing\n",
      "15:35:33 - cmdstanpy - INFO - Chain [1] done processing\n",
      "15:35:33 - cmdstanpy - INFO - Chain [1] start processing\n",
      "15:35:42 - cmdstanpy - INFO - Chain [1] done processing\n",
      "15:35:42 - cmdstanpy - INFO - Chain [1] start processing\n",
      "15:35:52 - cmdstanpy - INFO - Chain [1] done processing\n"
     ]
    }
   ],
   "source": [
    "# Train Prophet Models & Make Predictions\n",
    "regions = df[\"region\"].unique()\n",
    "predictions = {}\n",
    "\n",
    "for region in regions:\n",
    "    region_data = df[df[\"region\"] == region]\n",
    "    prophet_df = prepare_prophet_data(region_data)\n",
    "\n",
    "    model = Prophet()\n",
    "    model.fit(prophet_df)\n",
    "\n",
    "    future = model.make_future_dataframe(periods=5, freq='Y')\n",
    "    forecast = model.predict(future)\n",
    "    predictions[region] = forecast  # Store predictions\n"
   ]
  },
  {
   "cell_type": "code",
   "execution_count": 5,
   "metadata": {},
   "outputs": [],
   "source": [
    "# Dash App for Visualization\n",
    "app = dash.Dash(__name__)\n",
    "\n",
    "app.layout = html.Div([\n",
    "    html.H1(\"Cancer Incidence Trends by Region\"),\n",
    "    dcc.Dropdown(\n",
    "        id=\"region-dropdown\",\n",
    "        options=[{\"label\": r, \"value\": r} for r in regions],\n",
    "        value=regions[0]\n",
    "    ),\n",
    "    dcc.Graph(id=\"trend-graph\"),\n",
    "])\n"
   ]
  },
  {
   "cell_type": "code",
   "execution_count": 6,
   "metadata": {},
   "outputs": [
    {
     "ename": "OSError",
     "evalue": "Address 'http://127.0.0.1:8050' already in use.\n    Try passing a different port to run_server.",
     "output_type": "error",
     "traceback": [
      "\u001b[1;31m---------------------------------------------------------------------------\u001b[0m",
      "\u001b[1;31mOSError\u001b[0m                                   Traceback (most recent call last)",
      "Cell \u001b[1;32mIn[6], line 16\u001b[0m\n\u001b[0;32m     14\u001b[0m \u001b[38;5;66;03m# Ensure app runs correctly\u001b[39;00m\n\u001b[0;32m     15\u001b[0m \u001b[38;5;28;01mif\u001b[39;00m \u001b[38;5;18m__name__\u001b[39m \u001b[38;5;241m==\u001b[39m \u001b[38;5;124m'\u001b[39m\u001b[38;5;124m__main__\u001b[39m\u001b[38;5;124m'\u001b[39m:\n\u001b[1;32m---> 16\u001b[0m     \u001b[43mapp\u001b[49m\u001b[38;5;241;43m.\u001b[39;49m\u001b[43mrun_server\u001b[49m\u001b[43m(\u001b[49m\u001b[43mdebug\u001b[49m\u001b[38;5;241;43m=\u001b[39;49m\u001b[38;5;28;43;01mTrue\u001b[39;49;00m\u001b[43m)\u001b[49m\n",
      "File \u001b[1;32mc:\\Users\\suman\\AppData\\Local\\Programs\\Python\\Python310\\lib\\site-packages\\dash\\dash.py:2287\u001b[0m, in \u001b[0;36mDash.run_server\u001b[1;34m(self, *args, **kwargs)\u001b[0m\n\u001b[0;32m   2277\u001b[0m \u001b[38;5;250m\u001b[39m\u001b[38;5;124;03m\"\"\"`run_server` is a deprecated alias of `run` and may be removed in a\u001b[39;00m\n\u001b[0;32m   2278\u001b[0m \u001b[38;5;124;03mfuture version. We recommend using `app.run` instead.\u001b[39;00m\n\u001b[0;32m   2279\u001b[0m \n\u001b[0;32m   2280\u001b[0m \u001b[38;5;124;03mSee `app.run` for usage information.\u001b[39;00m\n\u001b[0;32m   2281\u001b[0m \u001b[38;5;124;03m\"\"\"\u001b[39;00m\n\u001b[0;32m   2282\u001b[0m warnings\u001b[38;5;241m.\u001b[39mwarn(\n\u001b[0;32m   2283\u001b[0m     \u001b[38;5;167;01mDeprecationWarning\u001b[39;00m(\n\u001b[0;32m   2284\u001b[0m         \u001b[38;5;124m\"\u001b[39m\u001b[38;5;124mDash.run_server is deprecated and will be removed in Dash 3.0\u001b[39m\u001b[38;5;124m\"\u001b[39m\n\u001b[0;32m   2285\u001b[0m     )\n\u001b[0;32m   2286\u001b[0m )\n\u001b[1;32m-> 2287\u001b[0m \u001b[38;5;28mself\u001b[39m\u001b[38;5;241m.\u001b[39mrun(\u001b[38;5;241m*\u001b[39margs, \u001b[38;5;241m*\u001b[39m\u001b[38;5;241m*\u001b[39mkwargs)\n",
      "File \u001b[1;32mc:\\Users\\suman\\AppData\\Local\\Programs\\Python\\Python310\\lib\\site-packages\\dash\\dash.py:2173\u001b[0m, in \u001b[0;36mDash.run\u001b[1;34m(self, host, port, proxy, debug, jupyter_mode, jupyter_width, jupyter_height, jupyter_server_url, dev_tools_ui, dev_tools_props_check, dev_tools_serve_dev_bundles, dev_tools_hot_reload, dev_tools_hot_reload_interval, dev_tools_hot_reload_watch_interval, dev_tools_hot_reload_max_retry, dev_tools_silence_routes_logging, dev_tools_prune_errors, **flask_run_options)\u001b[0m\n\u001b[0;32m   2170\u001b[0m             extra_files\u001b[38;5;241m.\u001b[39mappend(path)\n\u001b[0;32m   2172\u001b[0m \u001b[38;5;28;01mif\u001b[39;00m jupyter_dash\u001b[38;5;241m.\u001b[39mactive:\n\u001b[1;32m-> 2173\u001b[0m     \u001b[43mjupyter_dash\u001b[49m\u001b[38;5;241;43m.\u001b[39;49m\u001b[43mrun_app\u001b[49m\u001b[43m(\u001b[49m\n\u001b[0;32m   2174\u001b[0m \u001b[43m        \u001b[49m\u001b[38;5;28;43mself\u001b[39;49m\u001b[43m,\u001b[49m\n\u001b[0;32m   2175\u001b[0m \u001b[43m        \u001b[49m\u001b[43mmode\u001b[49m\u001b[38;5;241;43m=\u001b[39;49m\u001b[43mjupyter_mode\u001b[49m\u001b[43m,\u001b[49m\n\u001b[0;32m   2176\u001b[0m \u001b[43m        \u001b[49m\u001b[43mwidth\u001b[49m\u001b[38;5;241;43m=\u001b[39;49m\u001b[43mjupyter_width\u001b[49m\u001b[43m,\u001b[49m\n\u001b[0;32m   2177\u001b[0m \u001b[43m        \u001b[49m\u001b[43mheight\u001b[49m\u001b[38;5;241;43m=\u001b[39;49m\u001b[43mjupyter_height\u001b[49m\u001b[43m,\u001b[49m\n\u001b[0;32m   2178\u001b[0m \u001b[43m        \u001b[49m\u001b[43mhost\u001b[49m\u001b[38;5;241;43m=\u001b[39;49m\u001b[43mhost\u001b[49m\u001b[43m,\u001b[49m\n\u001b[0;32m   2179\u001b[0m \u001b[43m        \u001b[49m\u001b[43mport\u001b[49m\u001b[38;5;241;43m=\u001b[39;49m\u001b[43mport\u001b[49m\u001b[43m,\u001b[49m\n\u001b[0;32m   2180\u001b[0m \u001b[43m        \u001b[49m\u001b[43mserver_url\u001b[49m\u001b[38;5;241;43m=\u001b[39;49m\u001b[43mjupyter_server_url\u001b[49m\u001b[43m,\u001b[49m\n\u001b[0;32m   2181\u001b[0m \u001b[43m    \u001b[49m\u001b[43m)\u001b[49m\n\u001b[0;32m   2182\u001b[0m \u001b[38;5;28;01melse\u001b[39;00m:\n\u001b[0;32m   2183\u001b[0m     \u001b[38;5;28mself\u001b[39m\u001b[38;5;241m.\u001b[39mserver\u001b[38;5;241m.\u001b[39mrun(host\u001b[38;5;241m=\u001b[39mhost, port\u001b[38;5;241m=\u001b[39mport, debug\u001b[38;5;241m=\u001b[39mdebug, \u001b[38;5;241m*\u001b[39m\u001b[38;5;241m*\u001b[39mflask_run_options)\n",
      "File \u001b[1;32mc:\\Users\\suman\\AppData\\Local\\Programs\\Python\\Python310\\lib\\site-packages\\dash\\_jupyter.py:405\u001b[0m, in \u001b[0;36mJupyterDash.run_app\u001b[1;34m(self, app, mode, width, height, host, port, server_url)\u001b[0m\n\u001b[0;32m    403\u001b[0m     display(HTML(msg))\n\u001b[0;32m    404\u001b[0m \u001b[38;5;28;01melse\u001b[39;00m:\n\u001b[1;32m--> 405\u001b[0m     \u001b[38;5;28;01mraise\u001b[39;00m final_error\n",
      "File \u001b[1;32mc:\\Users\\suman\\AppData\\Local\\Programs\\Python\\Python310\\lib\\site-packages\\dash\\_jupyter.py:392\u001b[0m, in \u001b[0;36mJupyterDash.run_app\u001b[1;34m(self, app, mode, width, height, host, port, server_url)\u001b[0m\n\u001b[0;32m    389\u001b[0m         \u001b[38;5;28;01mraise\u001b[39;00m err\n\u001b[0;32m    391\u001b[0m \u001b[38;5;28;01mtry\u001b[39;00m:\n\u001b[1;32m--> 392\u001b[0m     \u001b[43mwait_for_app\u001b[49m\u001b[43m(\u001b[49m\u001b[43m)\u001b[49m\n\u001b[0;32m    394\u001b[0m     \u001b[38;5;28;01mif\u001b[39;00m \u001b[38;5;28mself\u001b[39m\u001b[38;5;241m.\u001b[39min_colab:\n\u001b[0;32m    395\u001b[0m         JupyterDash\u001b[38;5;241m.\u001b[39m_display_in_colab(dashboard_url, port, mode, width, height)\n",
      "File \u001b[1;32mc:\\Users\\suman\\AppData\\Local\\Programs\\Python\\Python310\\lib\\site-packages\\retrying.py:56\u001b[0m, in \u001b[0;36mretry.<locals>.wrap.<locals>.wrapped_f\u001b[1;34m(*args, **kw)\u001b[0m\n\u001b[0;32m     54\u001b[0m \u001b[38;5;129m@six\u001b[39m\u001b[38;5;241m.\u001b[39mwraps(f)\n\u001b[0;32m     55\u001b[0m \u001b[38;5;28;01mdef\u001b[39;00m \u001b[38;5;21mwrapped_f\u001b[39m(\u001b[38;5;241m*\u001b[39margs, \u001b[38;5;241m*\u001b[39m\u001b[38;5;241m*\u001b[39mkw):\n\u001b[1;32m---> 56\u001b[0m     \u001b[38;5;28;01mreturn\u001b[39;00m Retrying(\u001b[38;5;241m*\u001b[39mdargs, \u001b[38;5;241m*\u001b[39m\u001b[38;5;241m*\u001b[39mdkw)\u001b[38;5;241m.\u001b[39mcall(f, \u001b[38;5;241m*\u001b[39margs, \u001b[38;5;241m*\u001b[39m\u001b[38;5;241m*\u001b[39mkw)\n",
      "File \u001b[1;32mc:\\Users\\suman\\AppData\\Local\\Programs\\Python\\Python310\\lib\\site-packages\\retrying.py:266\u001b[0m, in \u001b[0;36mRetrying.call\u001b[1;34m(self, fn, *args, **kwargs)\u001b[0m\n\u001b[0;32m    263\u001b[0m \u001b[38;5;28;01mif\u001b[39;00m \u001b[38;5;28mself\u001b[39m\u001b[38;5;241m.\u001b[39mstop(attempt_number, delay_since_first_attempt_ms):\n\u001b[0;32m    264\u001b[0m     \u001b[38;5;28;01mif\u001b[39;00m \u001b[38;5;129;01mnot\u001b[39;00m \u001b[38;5;28mself\u001b[39m\u001b[38;5;241m.\u001b[39m_wrap_exception \u001b[38;5;129;01mand\u001b[39;00m attempt\u001b[38;5;241m.\u001b[39mhas_exception:\n\u001b[0;32m    265\u001b[0m         \u001b[38;5;66;03m# get() on an attempt with an exception should cause it to be raised, but raise just in case\u001b[39;00m\n\u001b[1;32m--> 266\u001b[0m         \u001b[38;5;28;01mraise\u001b[39;00m \u001b[43mattempt\u001b[49m\u001b[38;5;241;43m.\u001b[39;49m\u001b[43mget\u001b[49m\u001b[43m(\u001b[49m\u001b[43m)\u001b[49m\n\u001b[0;32m    267\u001b[0m     \u001b[38;5;28;01melse\u001b[39;00m:\n\u001b[0;32m    268\u001b[0m         \u001b[38;5;28;01mraise\u001b[39;00m RetryError(attempt)\n",
      "File \u001b[1;32mc:\\Users\\suman\\AppData\\Local\\Programs\\Python\\Python310\\lib\\site-packages\\retrying.py:301\u001b[0m, in \u001b[0;36mAttempt.get\u001b[1;34m(self, wrap_exception)\u001b[0m\n\u001b[0;32m    299\u001b[0m         \u001b[38;5;28;01mraise\u001b[39;00m RetryError(\u001b[38;5;28mself\u001b[39m)\n\u001b[0;32m    300\u001b[0m     \u001b[38;5;28;01melse\u001b[39;00m:\n\u001b[1;32m--> 301\u001b[0m         \u001b[43msix\u001b[49m\u001b[38;5;241;43m.\u001b[39;49m\u001b[43mreraise\u001b[49m\u001b[43m(\u001b[49m\u001b[38;5;28;43mself\u001b[39;49m\u001b[38;5;241;43m.\u001b[39;49m\u001b[43mvalue\u001b[49m\u001b[43m[\u001b[49m\u001b[38;5;241;43m0\u001b[39;49m\u001b[43m]\u001b[49m\u001b[43m,\u001b[49m\u001b[43m \u001b[49m\u001b[38;5;28;43mself\u001b[39;49m\u001b[38;5;241;43m.\u001b[39;49m\u001b[43mvalue\u001b[49m\u001b[43m[\u001b[49m\u001b[38;5;241;43m1\u001b[39;49m\u001b[43m]\u001b[49m\u001b[43m,\u001b[49m\u001b[43m \u001b[49m\u001b[38;5;28;43mself\u001b[39;49m\u001b[38;5;241;43m.\u001b[39;49m\u001b[43mvalue\u001b[49m\u001b[43m[\u001b[49m\u001b[38;5;241;43m2\u001b[39;49m\u001b[43m]\u001b[49m\u001b[43m)\u001b[49m\n\u001b[0;32m    302\u001b[0m \u001b[38;5;28;01melse\u001b[39;00m:\n\u001b[0;32m    303\u001b[0m     \u001b[38;5;28;01mreturn\u001b[39;00m \u001b[38;5;28mself\u001b[39m\u001b[38;5;241m.\u001b[39mvalue\n",
      "File \u001b[1;32mc:\\Users\\suman\\AppData\\Local\\Programs\\Python\\Python310\\lib\\site-packages\\six.py:719\u001b[0m, in \u001b[0;36mreraise\u001b[1;34m(tp, value, tb)\u001b[0m\n\u001b[0;32m    717\u001b[0m     \u001b[38;5;28;01mif\u001b[39;00m value\u001b[38;5;241m.\u001b[39m__traceback__ \u001b[38;5;129;01mis\u001b[39;00m \u001b[38;5;129;01mnot\u001b[39;00m tb:\n\u001b[0;32m    718\u001b[0m         \u001b[38;5;28;01mraise\u001b[39;00m value\u001b[38;5;241m.\u001b[39mwith_traceback(tb)\n\u001b[1;32m--> 719\u001b[0m     \u001b[38;5;28;01mraise\u001b[39;00m value\n\u001b[0;32m    720\u001b[0m \u001b[38;5;28;01mfinally\u001b[39;00m:\n\u001b[0;32m    721\u001b[0m     value \u001b[38;5;241m=\u001b[39m \u001b[38;5;28;01mNone\u001b[39;00m\n",
      "File \u001b[1;32mc:\\Users\\suman\\AppData\\Local\\Programs\\Python\\Python310\\lib\\site-packages\\retrying.py:251\u001b[0m, in \u001b[0;36mRetrying.call\u001b[1;34m(self, fn, *args, **kwargs)\u001b[0m\n\u001b[0;32m    248\u001b[0m     \u001b[38;5;28mself\u001b[39m\u001b[38;5;241m.\u001b[39m_before_attempts(attempt_number)\n\u001b[0;32m    250\u001b[0m \u001b[38;5;28;01mtry\u001b[39;00m:\n\u001b[1;32m--> 251\u001b[0m     attempt \u001b[38;5;241m=\u001b[39m Attempt(fn(\u001b[38;5;241m*\u001b[39margs, \u001b[38;5;241m*\u001b[39m\u001b[38;5;241m*\u001b[39mkwargs), attempt_number, \u001b[38;5;28;01mFalse\u001b[39;00m)\n\u001b[0;32m    252\u001b[0m \u001b[38;5;28;01mexcept\u001b[39;00m:\n\u001b[0;32m    253\u001b[0m     tb \u001b[38;5;241m=\u001b[39m sys\u001b[38;5;241m.\u001b[39mexc_info()\n",
      "File \u001b[1;32mc:\\Users\\suman\\AppData\\Local\\Programs\\Python\\Python310\\lib\\site-packages\\dash\\_jupyter.py:383\u001b[0m, in \u001b[0;36mJupyterDash.run_app.<locals>.wait_for_app\u001b[1;34m()\u001b[0m\n\u001b[0;32m    381\u001b[0m     \u001b[38;5;28;01mif\u001b[39;00m res \u001b[38;5;241m!=\u001b[39m \u001b[38;5;124m\"\u001b[39m\u001b[38;5;124mAlive\u001b[39m\u001b[38;5;124m\"\u001b[39m:\n\u001b[0;32m    382\u001b[0m         url \u001b[38;5;241m=\u001b[39m \u001b[38;5;124mf\u001b[39m\u001b[38;5;124m\"\u001b[39m\u001b[38;5;124mhttp://\u001b[39m\u001b[38;5;132;01m{\u001b[39;00mhost\u001b[38;5;132;01m}\u001b[39;00m\u001b[38;5;124m:\u001b[39m\u001b[38;5;132;01m{\u001b[39;00mport\u001b[38;5;132;01m}\u001b[39;00m\u001b[38;5;124m\"\u001b[39m\n\u001b[1;32m--> 383\u001b[0m         \u001b[38;5;28;01mraise\u001b[39;00m \u001b[38;5;167;01mOSError\u001b[39;00m(\n\u001b[0;32m    384\u001b[0m             \u001b[38;5;124mf\u001b[39m\u001b[38;5;124m\"\u001b[39m\u001b[38;5;124mAddress \u001b[39m\u001b[38;5;124m'\u001b[39m\u001b[38;5;132;01m{\u001b[39;00murl\u001b[38;5;132;01m}\u001b[39;00m\u001b[38;5;124m'\u001b[39m\u001b[38;5;124m already in use.\u001b[39m\u001b[38;5;130;01m\\n\u001b[39;00m\u001b[38;5;124m\"\u001b[39m\n\u001b[0;32m    385\u001b[0m             \u001b[38;5;124m\"\u001b[39m\u001b[38;5;124m    Try passing a different port to run_server.\u001b[39m\u001b[38;5;124m\"\u001b[39m\n\u001b[0;32m    386\u001b[0m         )\n\u001b[0;32m    387\u001b[0m \u001b[38;5;28;01mexcept\u001b[39;00m requests\u001b[38;5;241m.\u001b[39mConnectionError \u001b[38;5;28;01mas\u001b[39;00m err:\n\u001b[0;32m    388\u001b[0m     _get_error()\n",
      "\u001b[1;31mOSError\u001b[0m: Address 'http://127.0.0.1:8050' already in use.\n    Try passing a different port to run_server."
     ]
    }
   ],
   "source": [
    "@app.callback(\n",
    "    dash.dependencies.Output(\"trend-graph\", \"figure\"),\n",
    "    [dash.dependencies.Input(\"region-dropdown\", \"value\")]\n",
    ")\n",
    "def update_graph(selected_region):\n",
    "    forecast = predictions[selected_region]\n",
    "    \n",
    "    fig = go.Figure()\n",
    "    fig.add_trace(go.Scatter(x=forecast[\"ds\"], y=forecast[\"yhat\"], mode=\"lines\", name=\"Predicted Cases\"))\n",
    "    fig.update_layout(title=f\"Cancer Incidence Trends - {selected_region}\", xaxis_title=\"Year\", yaxis_title=\"Incidence\")\n",
    "    \n",
    "    return fig\n",
    "\n",
    "# Ensure app runs correctly\n",
    "if __name__ == '__main__':\n",
    "    app.run_server(debug=True)\n"
   ]
  },
  {
   "cell_type": "code",
   "execution_count": null,
   "metadata": {},
   "outputs": [],
   "source": []
  }
 ],
 "metadata": {
  "kernelspec": {
   "display_name": "Python 3",
   "language": "python",
   "name": "python3"
  },
  "language_info": {
   "codemirror_mode": {
    "name": "ipython",
    "version": 3
   },
   "file_extension": ".py",
   "mimetype": "text/x-python",
   "name": "python",
   "nbconvert_exporter": "python",
   "pygments_lexer": "ipython3",
   "version": "3.10.7"
  }
 },
 "nbformat": 4,
 "nbformat_minor": 2
}
